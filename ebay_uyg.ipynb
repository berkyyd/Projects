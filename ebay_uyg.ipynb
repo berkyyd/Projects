{
  "nbformat": 4,
  "nbformat_minor": 0,
  "metadata": {
    "colab": {
      "provenance": [],
      "authorship_tag": "ABX9TyOiYwoDcP+c1VF/l8KDgRQi",
      "include_colab_link": true
    },
    "kernelspec": {
      "name": "python3",
      "display_name": "Python 3"
    },
    "language_info": {
      "name": "python"
    }
  },
  "cells": [
    {
      "cell_type": "markdown",
      "metadata": {
        "id": "view-in-github",
        "colab_type": "text"
      },
      "source": [
        "<a href=\"https://colab.research.google.com/github/berkyyd/Projects/blob/main/ebay_uyg.ipynb\" target=\"_parent\"><img src=\"https://colab.research.google.com/assets/colab-badge.svg\" alt=\"Open In Colab\"/></a>"
      ]
    },
    {
      "cell_type": "code",
      "execution_count": null,
      "metadata": {
        "id": "mSqCMZbgfoF_"
      },
      "outputs": [],
      "source": [
        "import requests\n",
        "from bs4 import BeautifulSoup\n",
        "import os\n",
        "import pandas as pd"
      ]
    },
    {
      "cell_type": "code",
      "source": [
        "cookies = {\n",
        "    'AMP_f93443b04c':'JTdCJTIyZGV2aWNlSWQlMjIlM0ElMjI2OGZkMGRmOC0yYjE4LTQ1YTMtOTEwZS03ZDQ2Zjg1Y2I5YjQlMjIlMkMlMjJzZXNzaW9uSWQlMjIlM0ExNzM4NDEzMjA0NTY0JTJDJTIyb3B0T3V0JTIyJTNBZmFsc2UlMkMlMjJsYXN0RXZlbnRUaW1lJTIyJTNBMTczODQxNTY5MDUxMyUyQyUyMmxhc3RFdmVudElkJTIyJTNBMjYlMkMlMjJwYWdlQ291bnRlciUyMiUzQTI2JTdE',\n",
        "    'IDE':'AHWqTUnt1NAWO_Da3_oPdu6_mKjn4inTNhSfzUwrNMv8s4OQUYgvtn8E6_zTr3VB0AQ',\n",
        "    '_ScCbts':'%5B%5D',\n",
        "    '__eoi':'ID=4200d5b4094bd351:T=1738413199:RT=1738415644:S=AA-AfjaamPgwCAs4osXSE_542-US',\n",
        "    '__gads':'ID=461fa94ca712459d:T=1738413199:RT=1738415644:S=ALNI_MathjUsebAV3oLemm8909zmz4SzlQ',\n",
        "    '__gpi':'UID=0000102b0bfdec16:T=1738413199:RT=1738415644:S=ALNI_MaDaMpL5O2xM0iSZNsM1wfS1SzXKA',\n",
        "    '__gsas':'ID=320cf69e2553b6fa:T=1738415218:RT=1738415218:S=ALNI_MYehNGqyFheqjHEaKOuvadAHe74Rw',\n",
        "    '__ssds':'2',\n",
        "    '__ssuzjsr2':'a9be0cd8e',\n",
        "    '__uzma':'882bcf68-6bd8-49d2-88d5-dda077fdb777',\n",
        "    '__uzmaj2':'618ac908-dd91-4277-8f04-7f844771164c',\n",
        "    '__uzmb':'1738413172',\n",
        "    '__uzmbj2':'1738413181',\n",
        "    '__uzmc':'175953797793',\n",
        "    '__uzmcj2':'345551931977',\n",
        "    '__uzmd':'1738415317',\n",
        "    '__uzmdj2':'1738414958',\n",
        "    '__uzme':'4627',\n",
        "    '__uzmf':'7f6000d1ac5f66-f5bb-4017-9d5c-df096a1aff1517384131722832145590-5fdd867aaf56cd8e37',\n",
        "    '__uzmfj2':'7f6000d1ac5f66-f5bb-4017-9d5c-df096a1aff1517384131816231777130-26d2cb4cf1b6b61119',\n",
        "    '_fbp':'fb.1.1738413198335.277983152590767574',\n",
        "    '_gcl_au':'1.1.1838064133.1738413198',\n",
        "    '_pin_unauth':'dWlkPU5ERTBZV1kzTlRVdE5XRXdaUzAwWWpsakxUZ3hORGN0WVRRMlpUa3pOREF5WkRBdw',\n",
        "    '_scid':'TBPLK986NnSOjdOZobN4Bl8oh6et-Nk7',\n",
        "    '_scid_r':'R5PLK986NnSOjdOZobN4Bl8oh6et-Nk7bKuFRw',\n",
        "    'adguid':'c2e7af037a004e20b61a03d7e8d9b535',\n",
        "    'ak_bmsc':'A79CAC7C3F3900D152CF67BF95C2D691~000000000000000000000000000000~YAAQV946F5VrsayUAQAAAOF/wRrfpUjwXp3h8W7e44SzyRtEnoYMW9zS/IZTxN9q4yQg+6rbYPMDexwIZ2bm2JVY1bhJaRbPqVi+dAWcs/WoTVrjjF1l3OTG+qtptOFRrnmnM1aHVHE6fxPGKwqBtVb9PwP+DTkHWvzYboLXcKrr6geKDZoCYhb4okIdW0z6FsEzkooldZ3PxnylDXTVWPz2r7/b08oq8fJF35czA+idu0hBf3ltPv9JF6K/BZPZHHpdp5eoYvUFEFGcTeUEI7jdkE3vlOTPBx3+uUhDofFVxcq1QicYe/b5R263CnyXUNcuBMba9UzqaNuNWvejMmknrPSjrVAUiIDs7B1nWHeWvuWOyQVHjl36L8Bp+jMRMjQHHNoyrYAy',\n",
        "    'ar_debug':'1',\n",
        "    'bm_sv':'9AB2EDEA44FB27FA83669652AF010EB9~YAAQV946F6Q9sqyUAQAA6bSwwRo3WAbggQQ7huTQUfJVH8kbylFPBgiteWKZJG+FD6LvSkRYOz/5ldXFfG2lQK+cYEmgyCQ7EVFFeDEQZ+m+pMcZvzJ7jBS5diP0wlVIK03q3PnkxgilFQ49e5XTQJCz9l+PGeVOcVXT9L6l1Z9qWtz8+1JneOluuKzZmAagWFZmqIkvFiqgbyW02l61a3A1IChgG/CymSMBSMXoPryckXGzywfxBtEqRFPTUd4=~1',\n",
        "    'dp1':'bpbf/%23200000000000000000697f5490^bl/TR6b608810^',\n",
        "    'ebay':'%5Ejs%3D1%5Esbf%3D%23000000%5E',\n",
        "    'nonsession':'BAQAAAZRXz2gmAAaAADMABWl/VMwxMDAyMADKACBrYIhMYzE3ZmUwODAxOTQwYWQ5OTA2M2JlNjQ4ZmZmZmRhOTkAywACZ54oVDgydeiI/U95eUz0xdvGuQcNq2jXsMw*',\n",
        "    'ns1':'BAQAAAZRXz2gmAAaAANgAU2l/VMxjNjl8NjAxXjE3Mzg0MTMxNzY1MjheXjFeM3wyfDV8NHw3fDEwfDQyfDQzfDExXl5eNF4zXjEyXjEyXjJeMV4xXjBeMV4wXjFeNjQ0MjQ1OTA3NfPrzrKXfY3sgk43VlXCmxOfHskh',\n",
        "    'receive-cookie-deprecation':'1',\n",
        "    's':'CgAD4ACBnn2XyYzE3ZmUwODAxOTQwYWQ5OTA2M2JlNjQ4ZmZmZmRhOTnhDi3J',\n",
        "    'sc_at':'v2|H4sIAAAAAAAAAE3GyREAIQgEwIio4phFMRtYzMLg/dqvxh+SPpU0PhDmHlSeTVJd2JzhrUfAS4aphRr4POUL94BES0AAAAA=',\n",
        "    'utag_main__pn':'4%3Bexp-session',\n",
        "    'utag_main__se':'4%3Bexp-session',\n",
        "    'utag_main__sn':'1',\n",
        "    'utag_main__ss':'0%3Bexp-session',\n",
        "    'utag_main__st':'1738416765968%3Bexp-session',\n",
        "    'utag_main_ses_id':'1738413197369%3Bexp-session'\n",
        "}"
      ],
      "metadata": {
        "id": "3r6wJvVRZev5"
      },
      "execution_count": null,
      "outputs": []
    },
    {
      "cell_type": "code",
      "source": [
        "url = 'https://www.ebay.com/sch/i.html?_dcat=177&_fsrp=1&rt=nc&_from=R40&RAM%2520Size=32%2520GB&_nkw=laptop&_sacat=0&SSD%2520Capacity=1%2520TB'\n",
        "headers = {\n",
        "    \"User-Agent\": \"Mozilla/5.0 (Windows NT 10.0; Win64; x64) AppleWebKit/537.36 (KHTML, like Gecko) Chrome/120.0.0.0 Safari/537.36\",\n",
        "    \"Accept-Language\": \"en-US,en;q=0.9\",\n",
        "    \"Accept-Encoding\": \"gzip, deflate, br\",\n",
        "    \"Accept\": \"text/html,application/xhtml+xml,application/xml;q=0.9,image/webp,image/apng,*/*;q=0.8\",\n",
        "    \"Upgrade-Insecure-Requests\":\"1\",\n",
        "    \"Connection\": \"keep-alive\"\n",
        "}\n",
        "response = requests.get(url, headers=headers, cookies=cookies)\n",
        "soup = BeautifulSoup(response.text, 'html.parser')"
      ],
      "metadata": {
        "id": "-MOoIRfVgxON"
      },
      "execution_count": null,
      "outputs": []
    },
    {
      "cell_type": "code",
      "source": [
        "print(response.status_code)"
      ],
      "metadata": {
        "colab": {
          "base_uri": "https://localhost:8080/"
        },
        "id": "cnZOULk9kA85",
        "outputId": "f98aa6bc-f64a-44d2-f9b6-5cb97000b816"
      },
      "execution_count": null,
      "outputs": [
        {
          "output_type": "stream",
          "name": "stdout",
          "text": [
            "200\n"
          ]
        }
      ]
    },
    {
      "cell_type": "code",
      "source": [
        "container = soup.find('div', attrs={'id':'srp-river-results'})\n",
        "laptops = container.find_all('div', class_='s-item__info')\n",
        "print(len(laptops))"
      ],
      "metadata": {
        "colab": {
          "base_uri": "https://localhost:8080/"
        },
        "id": "qNFbNn18hQm9",
        "outputId": "47357953-bde8-4415-f792-79000e56345f"
      },
      "execution_count": null,
      "outputs": [
        {
          "output_type": "stream",
          "name": "stdout",
          "text": [
            "60\n"
          ]
        }
      ]
    },
    {
      "cell_type": "code",
      "source": [
        "laptop_dict = {\n",
        "    \"name\":[],\n",
        "    \"price\":[],\n",
        "    \"shipping\":[],\n",
        "    \"link\":[]\n",
        "}\n",
        "\n",
        "\n",
        "page_no = 1\n",
        "while True:\n",
        "  url = f'https://www.ebay.com/sch/i.html?_dcat=177&_fsrp=1&rt=nc&_from=R40&RAM%2520Size=32%2520GB&_nkw=laptop&_sacat=0&SSD%2520Capacity=1%2520TB&_pgn={page_no}'\n",
        "  response = requests.get(url, headers=headers, cookies=cookies)\n",
        "\n",
        "  if response.status_code != 200:\n",
        "    continue\n",
        "\n",
        "  soup = BeautifulSoup(response.text, 'html.parser')\n",
        "  container = soup.find('div', attrs={'id':'srp-river-results'})\n",
        "  laptops = container.find_all('div', class_='s-item__info')\n",
        "\n",
        "\n",
        "  for laptop in laptops:\n",
        "\n",
        "    if laptop.find('span', attrs={'role':'heading'}) is not None:\n",
        "      name = laptop.find('span', attrs={'role':'heading'}).text\n",
        "    else:\n",
        "      name = 'Bilgi yok'\n",
        "    laptop_dict['name'].append(name)\n",
        "\n",
        "    if laptop.find('span', class_='s-item__price') is not None:\n",
        "      price = laptop.find('span', class_='s-item__price').text\n",
        "    else:\n",
        "      price = 'Bilgi yok'\n",
        "    laptop_dict['price'].append(price)\n",
        "\n",
        "    if laptop.find('span', class_='s-item__shipping s-item__logisticsCost') is not None:\n",
        "      shipping = laptop.find('span', class_='s-item__shipping s-item__logisticsCost').text\n",
        "    else:\n",
        "      shipping = 'Bilgi yok'\n",
        "    laptop_dict['shipping'].append(shipping)\n",
        "\n",
        "    if laptop.find('a', class_='s-item__link') is not None:\n",
        "      link = laptop.find('a', class_='s-item__link')['href']\n",
        "    else:\n",
        "      link = 'Bilgi yok'\n",
        "    laptop_dict['link'].append(link)\n",
        "\n",
        "  next_button = soup.find('button', class_='pagination__next')\n",
        "\n",
        "  if next_button is not None:\n",
        "    break\n",
        "\n",
        "  page_no += 1"
      ],
      "metadata": {
        "id": "nzAzSTPellX_"
      },
      "execution_count": null,
      "outputs": []
    },
    {
      "cell_type": "code",
      "source": [
        "import openpyxl"
      ],
      "metadata": {
        "id": "ySd_kOFZDW0q"
      },
      "execution_count": null,
      "outputs": []
    },
    {
      "cell_type": "code",
      "source": [
        "df = pd.DataFrame(laptop_dict)\n",
        "df.to_excel('laptop.xlsx')"
      ],
      "metadata": {
        "id": "cPBK1HE8DZbx"
      },
      "execution_count": null,
      "outputs": []
    }
  ]
}