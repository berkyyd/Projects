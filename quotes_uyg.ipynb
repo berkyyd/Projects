{
  "nbformat": 4,
  "nbformat_minor": 0,
  "metadata": {
    "colab": {
      "provenance": [],
      "authorship_tag": "ABX9TyOe1lMa2NQvgtGw6lO2hTml",
      "include_colab_link": true
    },
    "kernelspec": {
      "name": "python3",
      "display_name": "Python 3"
    },
    "language_info": {
      "name": "python"
    }
  },
  "cells": [
    {
      "cell_type": "markdown",
      "metadata": {
        "id": "view-in-github",
        "colab_type": "text"
      },
      "source": [
        "<a href=\"https://colab.research.google.com/github/berkyyd/Projects/blob/main/quotes_uyg.ipynb\" target=\"_parent\"><img src=\"https://colab.research.google.com/assets/colab-badge.svg\" alt=\"Open In Colab\"/></a>"
      ]
    },
    {
      "cell_type": "code",
      "execution_count": null,
      "metadata": {
        "id": "YvsiRID1rAEH"
      },
      "outputs": [],
      "source": [
        "import requests\n",
        "from bs4 import BeautifulSoup"
      ]
    },
    {
      "cell_type": "code",
      "source": [
        "url = 'https://quotes.toscrape.com'\n",
        "response = requests.get(url)\n",
        "soup = BeautifulSoup(response.text, 'html.parser')"
      ],
      "metadata": {
        "id": "iqHcpZ4eEWVz"
      },
      "execution_count": null,
      "outputs": []
    },
    {
      "cell_type": "markdown",
      "source": [
        "1-> İlk Quote Metnini Yazdır"
      ],
      "metadata": {
        "id": "PuuG4esKEOBQ"
      }
    },
    {
      "cell_type": "code",
      "source": [
        "first_quote = soup.find('span', class_='text').text\n",
        "print(first_quote)"
      ],
      "metadata": {
        "colab": {
          "base_uri": "https://localhost:8080/"
        },
        "id": "Wgrwu0PdENq4",
        "outputId": "f3542c43-fcfa-4b22-bc88-08838cc28c23"
      },
      "execution_count": null,
      "outputs": [
        {
          "output_type": "stream",
          "name": "stdout",
          "text": [
            "“The world as we have created it is a process of our thinking. It cannot be changed without changing our thinking.”\n"
          ]
        }
      ]
    },
    {
      "cell_type": "markdown",
      "source": [
        "2-> İlk Quote Yazar İsmini Yazdır"
      ],
      "metadata": {
        "id": "GStmyOMoEml9"
      }
    },
    {
      "cell_type": "code",
      "source": [
        "first_quote_author = soup.find('small', class_='author').text\n",
        "print(first_quote_author)"
      ],
      "metadata": {
        "colab": {
          "base_uri": "https://localhost:8080/"
        },
        "id": "p2OkH9c0ErGX",
        "outputId": "a4c6e863-8b4c-4fc3-f9b1-8802c736aa4a"
      },
      "execution_count": null,
      "outputs": [
        {
          "output_type": "stream",
          "name": "stdout",
          "text": [
            "Albert Einstein\n"
          ]
        }
      ]
    },
    {
      "cell_type": "markdown",
      "source": [
        "3-> İlk Quote Etiketlerini Yazdır"
      ],
      "metadata": {
        "id": "j5FgCsDqE8wj"
      }
    },
    {
      "cell_type": "code",
      "source": [
        "first_quote_tags = soup.find('div', class_='tags').text\n",
        "print(first_quote_tags)"
      ],
      "metadata": {
        "colab": {
          "base_uri": "https://localhost:8080/"
        },
        "id": "tINMpQEAFAY9",
        "outputId": "488a8118-fe29-4d4c-ba06-2e5cba58f5da"
      },
      "execution_count": null,
      "outputs": [
        {
          "output_type": "stream",
          "name": "stdout",
          "text": [
            "\n",
            "            Tags:\n",
            "            \n",
            "change\n",
            "deep-thoughts\n",
            "thinking\n",
            "world\n",
            "\n"
          ]
        }
      ]
    },
    {
      "cell_type": "markdown",
      "source": [
        "4-> İlk Sayfadaki Tüm Quote Listesi"
      ],
      "metadata": {
        "id": "JD5biinCFnbc"
      }
    },
    {
      "cell_type": "code",
      "source": [
        "quotes_list = soup.find_all('span', class_='text')\n",
        "print(len(quotes_list))"
      ],
      "metadata": {
        "colab": {
          "base_uri": "https://localhost:8080/"
        },
        "id": "0mA2exolFrzQ",
        "outputId": "244f7d81-e689-4845-d7c9-85dda246ace3"
      },
      "execution_count": null,
      "outputs": [
        {
          "output_type": "stream",
          "name": "stdout",
          "text": [
            "10\n"
          ]
        }
      ]
    },
    {
      "cell_type": "markdown",
      "source": [
        "5-> ilk sayfadaki tüm quoteler, yazarlar ve etiketleri yazdır"
      ],
      "metadata": {
        "id": "Yrs46CU2GQDW"
      }
    },
    {
      "cell_type": "code",
      "source": [
        "for quote, author, tag in zip(quotes_list, soup.find_all('small', class_='author'), soup.find_all('div', class_='tags')):\n",
        "    print(quote.text)\n",
        "    print(author.text)\n",
        "    print(tag.text)"
      ],
      "metadata": {
        "colab": {
          "base_uri": "https://localhost:8080/"
        },
        "collapsed": true,
        "id": "9oCgaR5dGacD",
        "outputId": "f067d749-f354-4f0a-9736-69c97560d999"
      },
      "execution_count": null,
      "outputs": [
        {
          "output_type": "stream",
          "name": "stdout",
          "text": [
            "“The world as we have created it is a process of our thinking. It cannot be changed without changing our thinking.”\n",
            "Albert Einstein\n",
            "\n",
            "            Tags:\n",
            "            \n",
            "change\n",
            "deep-thoughts\n",
            "thinking\n",
            "world\n",
            "\n",
            "“It is our choices, Harry, that show what we truly are, far more than our abilities.”\n",
            "J.K. Rowling\n",
            "\n",
            "            Tags:\n",
            "            \n",
            "abilities\n",
            "choices\n",
            "\n",
            "“There are only two ways to live your life. One is as though nothing is a miracle. The other is as though everything is a miracle.”\n",
            "Albert Einstein\n",
            "\n",
            "            Tags:\n",
            "            \n",
            "inspirational\n",
            "life\n",
            "live\n",
            "miracle\n",
            "miracles\n",
            "\n",
            "“The person, be it gentleman or lady, who has not pleasure in a good novel, must be intolerably stupid.”\n",
            "Jane Austen\n",
            "\n",
            "            Tags:\n",
            "            \n",
            "aliteracy\n",
            "books\n",
            "classic\n",
            "humor\n",
            "\n",
            "“Imperfection is beauty, madness is genius and it's better to be absolutely ridiculous than absolutely boring.”\n",
            "Marilyn Monroe\n",
            "\n",
            "            Tags:\n",
            "            \n",
            "be-yourself\n",
            "inspirational\n",
            "\n",
            "“Try not to become a man of success. Rather become a man of value.”\n",
            "Albert Einstein\n",
            "\n",
            "            Tags:\n",
            "            \n",
            "adulthood\n",
            "success\n",
            "value\n",
            "\n",
            "“It is better to be hated for what you are than to be loved for what you are not.”\n",
            "André Gide\n",
            "\n",
            "            Tags:\n",
            "            \n",
            "life\n",
            "love\n",
            "\n",
            "“I have not failed. I've just found 10,000 ways that won't work.”\n",
            "Thomas A. Edison\n",
            "\n",
            "            Tags:\n",
            "            \n",
            "edison\n",
            "failure\n",
            "inspirational\n",
            "paraphrased\n",
            "\n",
            "“A woman is like a tea bag; you never know how strong it is until it's in hot water.”\n",
            "Eleanor Roosevelt\n",
            "\n",
            "            Tags:\n",
            "            \n",
            "misattributed-eleanor-roosevelt\n",
            "\n",
            "“A day without sunshine is like, you know, night.”\n",
            "Steve Martin\n",
            "\n",
            "            Tags:\n",
            "            \n",
            "humor\n",
            "obvious\n",
            "simile\n",
            "\n"
          ]
        }
      ]
    },
    {
      "cell_type": "markdown",
      "source": [
        "6-> her sayfadaki ilk quote yazarını yazdır"
      ],
      "metadata": {
        "id": "8f6D--YsHD13"
      }
    },
    {
      "cell_type": "code",
      "source": [
        "page_no = 1\n",
        "while True:\n",
        "  print(f'page = {page_no}')\n",
        "  page_url = url+f'/page/{page_no}/'\n",
        "  response = requests.get(page_url)\n",
        "  soup = BeautifulSoup(response.text, 'html.parser')\n",
        "  author = soup.find('small', class_='author').text\n",
        "  print(author)\n",
        "\n",
        "  next_button = soup.find('li', class_ = 'next')\n",
        "  if next_button is None:\n",
        "    break\n",
        "  else:\n",
        "    page_no += 1"
      ],
      "metadata": {
        "colab": {
          "base_uri": "https://localhost:8080/"
        },
        "collapsed": true,
        "id": "ANfo6oVSHKUd",
        "outputId": "354c165a-9049-4428-902d-ae80132ae0f9"
      },
      "execution_count": null,
      "outputs": [
        {
          "output_type": "stream",
          "name": "stdout",
          "text": [
            "page = 1\n",
            "Albert Einstein\n",
            "page = 2\n",
            "Marilyn Monroe\n",
            "page = 3\n",
            "Pablo Neruda\n",
            "page = 4\n",
            "Dr. Seuss\n",
            "page = 5\n",
            "George R.R. Martin\n",
            "page = 6\n",
            "Jane Austen\n",
            "page = 7\n",
            "Charles Bukowski\n",
            "page = 8\n",
            "Alfred Tennyson\n",
            "page = 9\n",
            "Albert Einstein\n",
            "page = 10\n",
            "J.K. Rowling\n"
          ]
        }
      ]
    },
    {
      "cell_type": "markdown",
      "source": [
        "7-> ilk sayfadaki 'next' butonunu bul ve href değerini yazdır"
      ],
      "metadata": {
        "id": "2FcXo6uZYuoq"
      }
    },
    {
      "cell_type": "code",
      "source": [
        "url = 'https://quotes.toscrape.com'\n",
        "response = requests.get(url)\n",
        "soup = BeautifulSoup(response.text, 'html.parser')"
      ],
      "metadata": {
        "id": "mx27Oq4HdYpl"
      },
      "execution_count": null,
      "outputs": []
    },
    {
      "cell_type": "code",
      "source": [
        "next = soup.find('li', class_='next').a\n",
        "next['href']"
      ],
      "metadata": {
        "colab": {
          "base_uri": "https://localhost:8080/",
          "height": 36
        },
        "id": "0w6u6r5hZLF2",
        "outputId": "18f7ecda-a226-43f2-c709-3c111c47263f"
      },
      "execution_count": null,
      "outputs": [
        {
          "output_type": "execute_result",
          "data": {
            "text/plain": [
              "'/page/2/'"
            ],
            "application/vnd.google.colaboratory.intrinsic+json": {
              "type": "string"
            }
          },
          "metadata": {},
          "execution_count": 26
        }
      ]
    },
    {
      "cell_type": "markdown",
      "source": [
        "8-> next butonuyla navigasyon ile ilk sayfadaki son quote elemanına eriş"
      ],
      "metadata": {
        "id": "SDazbnT8atQO"
      }
    },
    {
      "cell_type": "code",
      "source": [
        "last_quote = next.parent.parent.parent.find_previous_sibling()\n",
        "last_quote.text.replace('\\n',' ')"
      ],
      "metadata": {
        "colab": {
          "base_uri": "https://localhost:8080/",
          "height": 53
        },
        "id": "DpoLUHlrdxIP",
        "outputId": "47f59ecc-7cbe-4065-ae37-1d2557a8d8e7"
      },
      "execution_count": null,
      "outputs": [
        {
          "output_type": "execute_result",
          "data": {
            "text/plain": [
              "' “A day without sunshine is like, you know, night.” by Steve Martin (about)               Tags:              humor obvious simile  '"
            ],
            "application/vnd.google.colaboratory.intrinsic+json": {
              "type": "string"
            }
          },
          "metadata": {},
          "execution_count": 29
        }
      ]
    },
    {
      "cell_type": "markdown",
      "source": [
        "9-> son quote elementinin class ismini yazdır"
      ],
      "metadata": {
        "id": "vwWrVs9ze-Yd"
      }
    },
    {
      "cell_type": "code",
      "source": [
        "last_quote['class']"
      ],
      "metadata": {
        "colab": {
          "base_uri": "https://localhost:8080/"
        },
        "id": "PNZe6Kideoq_",
        "outputId": "c28fc264-6afb-45ce-94b7-6b238b9a3c08"
      },
      "execution_count": null,
      "outputs": [
        {
          "output_type": "execute_result",
          "data": {
            "text/plain": [
              "['quote']"
            ]
          },
          "metadata": {},
          "execution_count": 31
        }
      ]
    },
    {
      "cell_type": "markdown",
      "source": [
        "10-> son quote elementinin itemtype değerini yazdır"
      ],
      "metadata": {
        "id": "IcV7WUYTfMtm"
      }
    },
    {
      "cell_type": "code",
      "source": [
        "last_quote['itemtype']"
      ],
      "metadata": {
        "colab": {
          "base_uri": "https://localhost:8080/",
          "height": 36
        },
        "id": "gHyQVBFofUl1",
        "outputId": "d4d0b84a-13f7-4ea3-8671-02f3f550e81a"
      },
      "execution_count": null,
      "outputs": [
        {
          "output_type": "execute_result",
          "data": {
            "text/plain": [
              "'http://schema.org/CreativeWork'"
            ],
            "application/vnd.google.colaboratory.intrinsic+json": {
              "type": "string"
            }
          },
          "metadata": {},
          "execution_count": 32
        }
      ]
    }
  ]
}