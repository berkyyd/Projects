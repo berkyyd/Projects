{
  "nbformat": 4,
  "nbformat_minor": 0,
  "metadata": {
    "colab": {
      "provenance": [],
      "authorship_tag": "ABX9TyPQYw6tvSLO9277txRbsah6",
      "include_colab_link": true
    },
    "kernelspec": {
      "name": "python3",
      "display_name": "Python 3"
    },
    "language_info": {
      "name": "python"
    }
  },
  "cells": [
    {
      "cell_type": "markdown",
      "metadata": {
        "id": "view-in-github",
        "colab_type": "text"
      },
      "source": [
        "<a href=\"https://colab.research.google.com/github/berkyyd/Projects/blob/main/book_scraping.ipynb\" target=\"_parent\"><img src=\"https://colab.research.google.com/assets/colab-badge.svg\" alt=\"Open In Colab\"/></a>"
      ]
    },
    {
      "cell_type": "code",
      "execution_count": null,
      "metadata": {
        "id": "zOyX72dzEBFh"
      },
      "outputs": [],
      "source": [
        "import requests\n",
        "from bs4 import BeautifulSoup"
      ]
    },
    {
      "cell_type": "code",
      "source": [
        "url = 'https://books.toscrape.com/catalogue/a-light-in-the-attic_1000/index.html'"
      ],
      "metadata": {
        "id": "Jw2fHit0EOXg"
      },
      "execution_count": null,
      "outputs": []
    },
    {
      "cell_type": "code",
      "source": [
        "response = requests.get(url)\n",
        "response.encoding = 'utf-8'"
      ],
      "metadata": {
        "id": "ussNxSe4EROj"
      },
      "execution_count": null,
      "outputs": []
    },
    {
      "cell_type": "code",
      "source": [
        "soup = BeautifulSoup(response.text, 'html.parser')"
      ],
      "metadata": {
        "id": "zU0Wz1JHEYGs"
      },
      "execution_count": null,
      "outputs": []
    },
    {
      "cell_type": "code",
      "source": [
        "name = soup.find('div', class_='product_main').h1.text\n",
        "print(name)"
      ],
      "metadata": {
        "colab": {
          "base_uri": "https://localhost:8080/"
        },
        "id": "N6XgL0MiEbuv",
        "outputId": "eea7b442-1b63-439f-f5c7-36a4dec15206"
      },
      "execution_count": null,
      "outputs": [
        {
          "output_type": "stream",
          "name": "stdout",
          "text": [
            "A Light in the Attic\n"
          ]
        }
      ]
    },
    {
      "cell_type": "code",
      "source": [
        "price = soup.find('div', class_='product_main').p.text\n",
        "print(price)"
      ],
      "metadata": {
        "colab": {
          "base_uri": "https://localhost:8080/"
        },
        "id": "uVTvE82KE014",
        "outputId": "17723036-731b-4a1a-8b9f-e424c30189cf"
      },
      "execution_count": null,
      "outputs": [
        {
          "output_type": "stream",
          "name": "stdout",
          "text": [
            "£51.77\n"
          ]
        }
      ]
    },
    {
      "cell_type": "code",
      "source": [
        "ul_container = soup.find('ul', class_='breadcrumb')\n",
        "li_items = ul_container.find_all('li')\n",
        "category = li_items[2].a.text\n",
        "print(category)"
      ],
      "metadata": {
        "colab": {
          "base_uri": "https://localhost:8080/"
        },
        "id": "CGeKzerNFDQv",
        "outputId": "ee1f761c-bbb8-47ed-fb9c-402a72ff72a3"
      },
      "execution_count": null,
      "outputs": [
        {
          "output_type": "stream",
          "name": "stdout",
          "text": [
            "Poetry\n"
          ]
        }
      ]
    },
    {
      "cell_type": "code",
      "source": [
        "number_dict = {'One': 1, 'Two': 2, 'Three': 3, 'Four': 4, 'Five': 5}"
      ],
      "metadata": {
        "id": "poPAjDVEGOea"
      },
      "execution_count": null,
      "outputs": []
    },
    {
      "cell_type": "code",
      "source": [
        "star_p = soup.find('p', class_='star-rating')\n",
        "star_list = star_p['class']\n",
        "star_str = star_list[1]\n",
        "stars = number_dict[star_str]\n",
        "print(stars)"
      ],
      "metadata": {
        "colab": {
          "base_uri": "https://localhost:8080/"
        },
        "id": "w1PZ5wpyFs0o",
        "outputId": "85f2b4a4-ad38-4b3d-a403-14c369c71034"
      },
      "execution_count": null,
      "outputs": [
        {
          "output_type": "stream",
          "name": "stdout",
          "text": [
            "3\n"
          ]
        }
      ]
    },
    {
      "cell_type": "code",
      "source": [
        "upc_th = soup.find('th', string='UPC')\n",
        "upc = upc_th.find_next_sibling().text\n",
        "print(upc)"
      ],
      "metadata": {
        "colab": {
          "base_uri": "https://localhost:8080/"
        },
        "id": "BJ0GNSagGgf2",
        "outputId": "728a50d6-7274-411f-ce99-fe6a7d02760d"
      },
      "execution_count": null,
      "outputs": [
        {
          "output_type": "stream",
          "name": "stdout",
          "text": [
            "a897fe39b1053632\n"
          ]
        }
      ]
    },
    {
      "cell_type": "code",
      "source": [
        "availability_th = soup.find('th', string='Availability')\n",
        "availability = availability_th.find_next_sibling().text\n",
        "print(availability)"
      ],
      "metadata": {
        "colab": {
          "base_uri": "https://localhost:8080/"
        },
        "id": "zDLg_o0KHA2h",
        "outputId": "38c4034c-3b1b-4fd5-9833-cf57c3209bbe"
      },
      "execution_count": null,
      "outputs": [
        {
          "output_type": "stream",
          "name": "stdout",
          "text": [
            "In stock (22 available)\n"
          ]
        }
      ]
    },
    {
      "cell_type": "code",
      "source": [
        "in_stock = availability.split('(')[1].split(' ')[0]\n",
        "print(in_stock)"
      ],
      "metadata": {
        "colab": {
          "base_uri": "https://localhost:8080/"
        },
        "id": "DkfGG4GZHUDL",
        "outputId": "bcca40d9-f606-47dd-9c1e-f30f53c4e2d0"
      },
      "execution_count": null,
      "outputs": [
        {
          "output_type": "stream",
          "name": "stdout",
          "text": [
            "22\n"
          ]
        }
      ]
    },
    {
      "cell_type": "code",
      "source": [
        "img_link = 'https://books.toscrape.com/' + soup.find('div', class_='thumbnail').img['src'][6:]\n",
        "print(img_link)"
      ],
      "metadata": {
        "colab": {
          "base_uri": "https://localhost:8080/"
        },
        "id": "M6YqokWHHnba",
        "outputId": "e8058787-07e2-4b9d-f11d-94ef9b0e81c4"
      },
      "execution_count": null,
      "outputs": [
        {
          "output_type": "stream",
          "name": "stdout",
          "text": [
            "https://books.toscrape.com/media/cache/fe/72/fe72f0532301ec28892ae79a629a293c.jpg\n"
          ]
        }
      ]
    }
  ]
}